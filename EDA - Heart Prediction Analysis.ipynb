{
 "cells": [
  {
   "cell_type": "markdown",
   "id": "talented-copying",
   "metadata": {},
   "source": [
    "### EDA - Heart Attack Prediction\n",
    "\n",
    "<p>Rafay Mahmood</p>\n",
    "<p>L1F18BSCS0095</p>"
   ]
  },
  {
   "cell_type": "markdown",
   "id": "juvenile-spread",
   "metadata": {},
   "source": [
    "<h1 style=\"text-align:center;\">Question # 1</h1>\n",
    "\n",
    "<h4 style=\"text-align:center;\"> Our main goal first of all is to search either patient had an attack or not?</h4>\n"
   ]
  },
  {
   "cell_type": "markdown",
   "id": "crucial-pricing",
   "metadata": {},
   "source": [
    "<p>For this I will try to count the outputs of data based on the vitals of a patient such as cholestrol, bp, restecg, thall, etc.</p>\n",
    "<p>After extracting the data from the main dataframe using math library calculate the percentage of outputs either the patient is having a heart attack or not</p>\n",
    "<p>After data is extracted displaying the data using matplot library in bar plot form</p>"
   ]
  },
  {
   "cell_type": "markdown",
   "id": "numerous-ratio",
   "metadata": {},
   "source": [
    "<h1 style=\"text-align:center;\">Question # 2</h1>\n",
    "\n",
    "<h4 style=\"text-align:center;\"> Based on vitals like BP, cholesterol etc. what’s the probability of a\n",
    "patient to have an attack near future?</h4>"
   ]
  },
  {
   "cell_type": "markdown",
   "id": "overhead-twenty",
   "metadata": {},
   "source": [
    "<p>So based on google searches and consulting a doctor to find the range of the vitals present in th dataset, I will try to predict that patient who didnt had an attack yet is in danger having bad figure in vitals and might get an attack in near future.</p>\n",
    "<p>I managed to do so by extracting all the patients without heart attack into a seperate dataframe. Then applying the ranges on the vitals and extracting out whether the patient is in danger of having a heart attack. Cholestrol, restecg and other similar vitals are used to analyise it.</p>\n",
    "<p>After calculating it we will plot it in a graph</p>"
   ]
  },
  {
   "cell_type": "markdown",
   "id": "historic-dylan",
   "metadata": {},
   "source": [
    "<h1 style=\"text-align:center;\">Question # 3</h1>\n",
    "\n",
    "<h4 style=\"text-align:center;\"> Find out the range of age and frequency of heart attacks</h4>"
   ]
  },
  {
   "cell_type": "markdown",
   "id": "registered-quarterly",
   "metadata": {},
   "source": [
    "<p>In this question I have calculated the range with the difference of age 5 to find the frequency of heart attack patients. Like patients in the range of age 20 to 25 had 2 heart attack outputs</p>\n",
    "<p>I first managed to find the max and min value of age in my dataset</p>\n",
    "<p>Will iterate through every entry in my dataset to find if there exists any patient havinf heart attack in the range iterated in loop with the difference of loop.</p>\n",
    "\n",
    "<p>Also when the range and frequency is calculating age of the majority of people having attack</p>"
   ]
  },
  {
   "cell_type": "markdown",
   "id": "reduced-denver",
   "metadata": {},
   "source": [
    "<h1 style=\"text-align:center;\">Question # 4</h1>\n",
    "\n",
    "<h4 style=\"text-align:center;\"> Which gender (M/F) most often gets a heart attack and the\n",
    "percentage (%)?</h4>"
   ]
  },
  {
   "cell_type": "markdown",
   "id": "pacific-spanish",
   "metadata": {},
   "source": [
    "<p>I can calculate this by separating the dataset on based of gender of the pateint. Using the dataset created in the 1st question I will extract on based of gender and calculate its percentage and ploting it as a bar plot to visualize the results<p>"
   ]
  },
  {
   "cell_type": "markdown",
   "id": "important-college",
   "metadata": {},
   "source": [
    "<h1 style=\"text-align:center;\">Question # 5</h1>\n",
    "\n",
    "<h4 style=\"text-align:center;\"> Determining the range of vitals above and below normal level</h4>"
   ]
  },
  {
   "cell_type": "markdown",
   "id": "popular-blair",
   "metadata": {},
   "source": [
    "According to the prescribed range by doctors and research papers from various universities, I have a rough range of vitals through which I can calculate how much data deviates from the normal range"
   ]
  },
  {
   "cell_type": "markdown",
   "id": "alive-electron",
   "metadata": {},
   "source": [
    "<h1 style=\"text-align:center;\">Training dataset</h1>\n",
    "\n",
    "<h4 style=\"text-align:center;\"> I will try to train the dataset by dividing it in 30 - 70 % train and testing applying algorithms on it</h4>"
   ]
  },
  {
   "cell_type": "markdown",
   "id": "occasional-negotiation",
   "metadata": {},
   "source": [
    "\n",
    "\n"
   ]
  }
 ],
 "metadata": {
  "kernelspec": {
   "display_name": "Python 3",
   "language": "python",
   "name": "python3"
  },
  "language_info": {
   "codemirror_mode": {
    "name": "ipython",
    "version": 3
   },
   "file_extension": ".py",
   "mimetype": "text/x-python",
   "name": "python",
   "nbconvert_exporter": "python",
   "pygments_lexer": "ipython3",
   "version": "3.8.5"
  }
 },
 "nbformat": 4,
 "nbformat_minor": 5
}
